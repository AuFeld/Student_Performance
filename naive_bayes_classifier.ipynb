{
 "cells": [
  {
   "cell_type": "markdown",
   "metadata": {},
   "source": [
    "## Building a Naives Bayes Classifier from Scratch (why not?):\n",
    "\n",
    "#### Step 1 | Seperate by Class\n",
    "#### Step 2 | Recap Dataset\n",
    "#### Step 3 | Recap Data by Class\n",
    "#### Step 4 | Gaussian Probability Density Function\n",
    "#### Step 5 | Class Probabilities\n",
    "#### Step 6 | Slap it all together"
   ]
  },
  {
   "cell_type": "markdown",
   "metadata": {},
   "source": [
    "## Step 1 | Seperate by Class\n",
    "\n",
    "We need to calculate the probability of data by the class they belong to, also known as the \"base rate\". First, the training data\n",
    "needs to be seperated by class. A dictionary can be created where each key is the class value and then add a list of all records\n",
    "as the value in the dictionary."
   ]
  },
  {
   "cell_type": "code",
   "execution_count": null,
   "metadata": {},
   "outputs": [],
   "source": [
    "def separate_by_class(dataset):\n",
    "    separated = dict()\n",
    "    for i in range(len(dataset)):\n",
    "        vector = dataset[i]\n",
    "        class_value = vector[-1]\n",
    "        if (class_value not in separated):\n",
    "            separated[class_value] = list()\n",
    "        separated[class_value].append(vector)\n",
    "    return separated"
   ]
  },
  {
   "cell_type": "markdown",
   "metadata": {},
   "source": [
    "## Step 2 | Recap Datset\n",
    "\n",
    "It is essential that two statistics are utilized in the calculation of probabilities of a dataset, mean and standard deviation. \n",
    "\n",
    "standard deviation = average deviation from the mean"
   ]
  },
  {
   "cell_type": "code",
   "execution_count": null,
   "metadata": {},
   "outputs": [],
   "source": [
    "# mean = sum(x)/n * count(x)\n",
    "\n",
    "def mean(numbers):\n",
    "    return sum(numbers)/float(len(numbers))"
   ]
  },
  {
   "cell_type": "code",
   "execution_count": null,
   "metadata": {},
   "outputs": [],
   "source": [
    "# standard deviation = sqrt((sum i to N(x_i - mean(x))^2)/N-1)\n",
    "\n",
    "from math import sqrt\n",
    "\n",
    "def stdev(numbers):\n",
    "    avg = mean(numbers)\n",
    "    variance = sum([(x-avg)**2 for x in numbers] / float(len(numbers)-1)\n",
    "    return sqrt(variance)"
   ]
  },
  {
   "cell_type": "markdown",
   "metadata": {},
   "source": [
    "Next on the to do list, is to calculate the mean and stdev for each column in the dataset. By utilizing the zip function we can \n",
    "aggregate elements from each provided argument. Pass in the dataset to the zip function with the * operator that separates the dataset into separate lists for each row. The zip function will then iterate over each element of each row and return a column from the dataset as a list of numbers. Pretty, pretty, pretty, good."
   ]
  },
  {
   "cell_type": "code",
   "execution_count": null,
   "metadata": {},
   "outputs": [],
   "source": [
    "# calc mean, stdev, and count for each column in the dataset\n",
    "\n",
    "def recap_dataset(dataset):\n",
    "    recap = [(mean(column), stdev(column), len(column)) for column in zip(*dataset)]\n",
    "    del(recap[-1])\n",
    "    return recap"
   ]
  },
  {
   "cell_type": "markdown",
   "metadata": {},
   "source": [
    "## Step 3 | Recap Data by Class\n",
    "\n",
    "Recap the columns in the dataset sorted by class values via recap_by_class() function. Dataset is first divided by class, then implements the statistics to be calculated on each subset. This gives us our results in the form of a list of tuples and then stored in a dictionary by their class value. "
   ]
  },
  {
   "cell_type": "code",
   "execution_count": null,
   "metadata": {},
   "outputs": [],
   "source": [
    "def recap_by_class(dataset):\n",
    "    separated = separate_by_class(dataset)\n",
    "    recaps = dict()\n",
    "    for class_value, rows in separated.items():\n",
    "        recaps[class_value] = recap_dataset(rows)\n",
    "    return recaps"
   ]
  },
  {
   "cell_type": "markdown",
   "metadata": {},
   "source": [
    "## Step 4 | Gaussian Probability Density Function\n",
    "\n",
    "You're probably asking yourself what is the Gaussian Probability function? And why would you ever use it? \n",
    "\n",
    "Cliff notes: it calculates the probability of an event to occur.\n",
    "\n",
    "The Gaussian Probability Distribution Function can be calculated as:\n",
    "\n",
    "f(x) = (1 / sqrt(2 * PI) * sigma) * exp(-((x-mean)^2 / (2 * sigma^2)))\n",
    "\n",
    "sigma = the standard deviation for x\n",
    "mean = the mean for x\n",
    "PI = chocolate_cream_pie = 3.14... "
   ]
  },
  {
   "cell_type": "code",
   "execution_count": 1,
   "metadata": {},
   "outputs": [],
   "source": [
    "from math import sqrt, pi, exp\n",
    "\n",
    "def calculate_probability(x, mean, stdev):\n",
    "    exponent = exp(-((x-mean)**2 / (2 * stdev**2)))\n",
    "    return (1 / (sqrt(2 * pi) * stdev)) * exponent"
   ]
  },
  {
   "cell_type": "code",
   "execution_count": 4,
   "metadata": {},
   "outputs": [
    {
     "name": "stdout",
     "output_type": "stream",
     "text": [
      "0.002159638660527522\n"
     ]
    }
   ],
   "source": [
    "# test the Gaussian PDF\n",
    "\n",
    "print(calculate_probability(100, 50, 25))"
   ]
  },
  {
   "cell_type": "markdown",
   "metadata": {},
   "source": [
    "## Step 5 | Class Probabilities"
   ]
  },
  {
   "cell_type": "code",
   "execution_count": null,
   "metadata": {},
   "outputs": [],
   "source": [
    "def calculate_class_probabilities(recaps, row):\n",
    "    total_rows = sum([recaps[label][0][2] for label in recaps])\n",
    "    probabilities = dict()\n",
    "    for class_value, class_recaps in recaps.items():\n",
    "        probabilities[class_value] = recaps[class_value][0][2] / float(total_rows)"
   ]
  },
  {
   "cell_type": "code",
   "execution_count": null,
   "metadata": {},
   "outputs": [],
   "source": []
  },
  {
   "cell_type": "code",
   "execution_count": null,
   "metadata": {},
   "outputs": [],
   "source": []
  },
  {
   "cell_type": "code",
   "execution_count": null,
   "metadata": {},
   "outputs": [],
   "source": []
  },
  {
   "cell_type": "code",
   "execution_count": null,
   "metadata": {},
   "outputs": [],
   "source": []
  },
  {
   "cell_type": "code",
   "execution_count": null,
   "metadata": {},
   "outputs": [],
   "source": []
  }
 ],
 "metadata": {
  "kernelspec": {
   "display_name": "Python 3.7.4 64-bit",
   "language": "python",
   "name": "python37464bit297b18a1a3e542689b13a325bcf6fffe"
  },
  "language_info": {
   "codemirror_mode": {
    "name": "ipython",
    "version": 3
   },
   "file_extension": ".py",
   "mimetype": "text/x-python",
   "name": "python",
   "nbconvert_exporter": "python",
   "pygments_lexer": "ipython3",
   "version": "3.7.4"
  }
 },
 "nbformat": 4,
 "nbformat_minor": 4
}
