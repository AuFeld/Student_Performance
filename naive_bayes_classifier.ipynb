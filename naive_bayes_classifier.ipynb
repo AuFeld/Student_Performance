{
 "cells": [
  {
   "cell_type": "code",
   "execution_count": 55,
   "metadata": {},
   "outputs": [],
   "source": [
    "import csv\n",
    "import math\n",
    "import numpy as np\n",
    "import pandas as pd\n",
    "import os\n",
    "import random"
   ]
  },
  {
   "cell_type": "markdown",
   "metadata": {},
   "source": [
    "## Methods to Define:\n",
    "\n",
    "1. Make Prediction\n",
    "2. Get the Accuracy\n",
    "3. Calculate Mean and Variance\n",
    "4. Data Split"
   ]
  },
  {
   "cell_type": "code",
   "execution_count": 56,
   "metadata": {},
   "outputs": [],
   "source": [
    "def makePrediction(pPredict, nPredict):\n",
    "    prediction = [] \n",
    "    \n",
    "    for i in range(len(pPredict)):\n",
    "        if pPredict[i]>nPredict[i]:\n",
    "            prediction.append(1)\n",
    "        else:\n",
    "            prediction.append(0)\n",
    "            \n",
    "    return prediction"
   ]
  },
  {
   "cell_type": "code",
   "execution_count": 57,
   "metadata": {},
   "outputs": [],
   "source": [
    "def getAccuracy(prediction, testC):\n",
    "    \n",
    "    trueP, trueN, falseP, falseN = 0, 0, 0, 0\n",
    "    \n",
    "    for i in range(len(prediction)):\n",
    "        if prediction[i] == testC[i]:\n",
    "            if prediction[i] == 1:\n",
    "                trueP +=1\n",
    "            else:\n",
    "                trueN += 1\n",
    "        else:\n",
    "            if prediction[i] == 1:\n",
    "                falseP += 1\n",
    "            else:\n",
    "                falseN += 1\n",
    "                \n",
    "    \n",
    "    accuracy = ((trueP + trueN)/(len(prediction)))*100\n",
    "    precision = trueP /float(trueP + falseP)\n",
    "    recall = trueP/float(trueP + falseN)\n",
    "    \n",
    "\n",
    "    return  [accuracy, precision, recall]"
   ]
  },
  {
   "cell_type": "code",
   "execution_count": 58,
   "metadata": {},
   "outputs": [],
   "source": [
    "def Calculate(meanAndVariance, dataset, prior):\n",
    "    \n",
    "    # Convert dataframe into a list\n",
    "    dataList  = dataset.values.tolist()\n",
    "    # To store predicts of all rows\n",
    "    predict = []\n",
    "    \n",
    "    for i in range(len(dataList)):\n",
    "        p = 1\n",
    "        for j in range(len(dataList[i])):\n",
    "            exponent = math.exp(-(math.pow(dataList[i][j]-meanAndVariance[j][0],2)/(2*math.pow(meanAndVariance[j][1],2))))\n",
    "            p = p * (1/(math.sqrt(2*math.pi) *meanAndVariance[j][1])) * exponent\n",
    "        predict.append((p*prior))\n",
    "            \n",
    "    return predict"
   ]
  },
  {
   "cell_type": "code",
   "execution_count": 59,
   "metadata": {},
   "outputs": [],
   "source": [
    "def variance(dataset, MV ):\n",
    "    \n",
    "    #Convert dataframe into a list to calculate the variance\n",
    "    DataList  = dataset.values.tolist()\n",
    "    \n",
    "    #Calculate variance for features of positive class\n",
    "    for i in range(8):\n",
    "        # To calculate deviations of each data point\n",
    "        d = 0\n",
    "        \n",
    "        for j in range(len(DataList)):\n",
    "            d += pow((DataList[j][i] - MV[i][0]),2)\n",
    "        \n",
    "        d = (d/float((len(dataset['passing_grade']))))\n",
    "        MV[i].append(math.sqrt(d))\n",
    "        \n",
    "    \n",
    "    return MV"
   ]
  },
  {
   "cell_type": "code",
   "execution_count": 60,
   "metadata": {},
   "outputs": [],
   "source": [
    "def mean(datasetP, datasetN):\n",
    "    \n",
    "    #Get mean and variance for both positive and negative class\n",
    "    positiveMV = []\n",
    "    negativeMV = []\n",
    "    \n",
    "    #Traverse columns\n",
    "    for column in datasetP:\n",
    "        \n",
    "        # break the loop since I don't need to calculate the mean of the class\n",
    "        if column == 'passing_grade':\n",
    "            break\n",
    "            \n",
    "        meanVictorP = [sum(datasetP[column])/(len(datasetP[column]))]\n",
    "        positiveMV.append(meanVictorP)\n",
    "        \n",
    "        meanVictorN = [sum(datasetN[column])/(len(datasetN[column]))]\n",
    "        negativeMV.append(meanVictorN)\n",
    "        \n",
    "    return [positiveMV, negativeMV]"
   ]
  },
  {
   "cell_type": "code",
   "execution_count": 61,
   "metadata": {},
   "outputs": [],
   "source": [
    "def splitByPassingGrade(dataset):\n",
    "    \n",
    "    #Split by passing\n",
    "    positiveT = dataset[dataset['passing_grade'] == 1]\n",
    "    \n",
    "    #Split by not passing\n",
    "    negativeT = dataset[dataset['passing_grade'] == 0]\n",
    "    \n",
    "    return [positiveT, negativeT]"
   ]
  },
  {
   "cell_type": "code",
   "execution_count": 62,
   "metadata": {},
   "outputs": [],
   "source": [
    "def splitData(dataset):\n",
    "    \n",
    "    #The dataset split for the test is 20% and for the training is 80%\n",
    "     \n",
    "    #Defining number of rows for the testing set\n",
    "    testingRows = math.floor((len(dataset)*20)/100)\n",
    "    \n",
    "    #Splitting the data into testing set. The rest will be the training set.\n",
    "    test = dataset.iloc[:testingRows,:]\n",
    "    train = dataset.iloc[testingRows:,:] \n",
    "    \n",
    "    return [test, train]"
   ]
  },
  {
   "cell_type": "markdown",
   "metadata": {},
   "source": [
    "## Model from Scratch:\n",
    "\n",
    "1. Read in Data\n",
    "2. Shuffle\n",
    "3. Train/Test Split\n",
    "4. Calculate Mean and Variance\n",
    "5. Split the feature and class of Testing Set"
   ]
  },
  {
   "cell_type": "code",
   "execution_count": 63,
   "metadata": {},
   "outputs": [
    {
     "data": {
      "text/html": [
       "<div>\n",
       "<style scoped>\n",
       "    .dataframe tbody tr th:only-of-type {\n",
       "        vertical-align: middle;\n",
       "    }\n",
       "\n",
       "    .dataframe tbody tr th {\n",
       "        vertical-align: top;\n",
       "    }\n",
       "\n",
       "    .dataframe thead th {\n",
       "        text-align: right;\n",
       "    }\n",
       "</style>\n",
       "<table border=\"1\" class=\"dataframe\">\n",
       "  <thead>\n",
       "    <tr style=\"text-align: right;\">\n",
       "      <th></th>\n",
       "      <th>Unnamed: 0</th>\n",
       "      <th>school</th>\n",
       "      <th>sex</th>\n",
       "      <th>age</th>\n",
       "      <th>address</th>\n",
       "      <th>family_size</th>\n",
       "      <th>parents_status</th>\n",
       "      <th>mother_education</th>\n",
       "      <th>father_education</th>\n",
       "      <th>mother_job</th>\n",
       "      <th>...</th>\n",
       "      <th>free_time</th>\n",
       "      <th>go_out</th>\n",
       "      <th>weekday_alcohol_use</th>\n",
       "      <th>weekend_alcohol_use</th>\n",
       "      <th>health</th>\n",
       "      <th>absences</th>\n",
       "      <th>period1_score</th>\n",
       "      <th>period2_score</th>\n",
       "      <th>final_score</th>\n",
       "      <th>passing_grade</th>\n",
       "    </tr>\n",
       "  </thead>\n",
       "  <tbody>\n",
       "    <tr>\n",
       "      <th>0</th>\n",
       "      <td>0</td>\n",
       "      <td>GP</td>\n",
       "      <td>F</td>\n",
       "      <td>18</td>\n",
       "      <td>U</td>\n",
       "      <td>GT3</td>\n",
       "      <td>A</td>\n",
       "      <td>4</td>\n",
       "      <td>4</td>\n",
       "      <td>at_home</td>\n",
       "      <td>...</td>\n",
       "      <td>3</td>\n",
       "      <td>4</td>\n",
       "      <td>1</td>\n",
       "      <td>1</td>\n",
       "      <td>3</td>\n",
       "      <td>6</td>\n",
       "      <td>5</td>\n",
       "      <td>6</td>\n",
       "      <td>6</td>\n",
       "      <td>0</td>\n",
       "    </tr>\n",
       "    <tr>\n",
       "      <th>1</th>\n",
       "      <td>1</td>\n",
       "      <td>GP</td>\n",
       "      <td>F</td>\n",
       "      <td>17</td>\n",
       "      <td>U</td>\n",
       "      <td>GT3</td>\n",
       "      <td>T</td>\n",
       "      <td>1</td>\n",
       "      <td>1</td>\n",
       "      <td>at_home</td>\n",
       "      <td>...</td>\n",
       "      <td>3</td>\n",
       "      <td>3</td>\n",
       "      <td>1</td>\n",
       "      <td>1</td>\n",
       "      <td>3</td>\n",
       "      <td>4</td>\n",
       "      <td>5</td>\n",
       "      <td>5</td>\n",
       "      <td>6</td>\n",
       "      <td>0</td>\n",
       "    </tr>\n",
       "    <tr>\n",
       "      <th>2</th>\n",
       "      <td>2</td>\n",
       "      <td>GP</td>\n",
       "      <td>F</td>\n",
       "      <td>15</td>\n",
       "      <td>U</td>\n",
       "      <td>LE3</td>\n",
       "      <td>T</td>\n",
       "      <td>1</td>\n",
       "      <td>1</td>\n",
       "      <td>at_home</td>\n",
       "      <td>...</td>\n",
       "      <td>3</td>\n",
       "      <td>2</td>\n",
       "      <td>2</td>\n",
       "      <td>3</td>\n",
       "      <td>3</td>\n",
       "      <td>10</td>\n",
       "      <td>7</td>\n",
       "      <td>8</td>\n",
       "      <td>10</td>\n",
       "      <td>0</td>\n",
       "    </tr>\n",
       "    <tr>\n",
       "      <th>3</th>\n",
       "      <td>3</td>\n",
       "      <td>GP</td>\n",
       "      <td>F</td>\n",
       "      <td>15</td>\n",
       "      <td>U</td>\n",
       "      <td>GT3</td>\n",
       "      <td>T</td>\n",
       "      <td>4</td>\n",
       "      <td>2</td>\n",
       "      <td>health</td>\n",
       "      <td>...</td>\n",
       "      <td>2</td>\n",
       "      <td>2</td>\n",
       "      <td>1</td>\n",
       "      <td>1</td>\n",
       "      <td>5</td>\n",
       "      <td>2</td>\n",
       "      <td>15</td>\n",
       "      <td>14</td>\n",
       "      <td>15</td>\n",
       "      <td>1</td>\n",
       "    </tr>\n",
       "    <tr>\n",
       "      <th>4</th>\n",
       "      <td>4</td>\n",
       "      <td>GP</td>\n",
       "      <td>F</td>\n",
       "      <td>16</td>\n",
       "      <td>U</td>\n",
       "      <td>GT3</td>\n",
       "      <td>T</td>\n",
       "      <td>3</td>\n",
       "      <td>3</td>\n",
       "      <td>other</td>\n",
       "      <td>...</td>\n",
       "      <td>3</td>\n",
       "      <td>2</td>\n",
       "      <td>1</td>\n",
       "      <td>2</td>\n",
       "      <td>5</td>\n",
       "      <td>4</td>\n",
       "      <td>6</td>\n",
       "      <td>10</td>\n",
       "      <td>10</td>\n",
       "      <td>0</td>\n",
       "    </tr>\n",
       "  </tbody>\n",
       "</table>\n",
       "<p>5 rows × 35 columns</p>\n",
       "</div>"
      ],
      "text/plain": [
       "   Unnamed: 0 school sex  age address family_size parents_status  \\\n",
       "0           0     GP   F   18       U         GT3              A   \n",
       "1           1     GP   F   17       U         GT3              T   \n",
       "2           2     GP   F   15       U         LE3              T   \n",
       "3           3     GP   F   15       U         GT3              T   \n",
       "4           4     GP   F   16       U         GT3              T   \n",
       "\n",
       "   mother_education  father_education mother_job  ... free_time go_out  \\\n",
       "0                 4                 4    at_home  ...         3      4   \n",
       "1                 1                 1    at_home  ...         3      3   \n",
       "2                 1                 1    at_home  ...         3      2   \n",
       "3                 4                 2     health  ...         2      2   \n",
       "4                 3                 3      other  ...         3      2   \n",
       "\n",
       "  weekday_alcohol_use  weekend_alcohol_use  health  absences period1_score  \\\n",
       "0                   1                    1       3         6             5   \n",
       "1                   1                    1       3         4             5   \n",
       "2                   2                    3       3        10             7   \n",
       "3                   1                    1       5         2            15   \n",
       "4                   1                    2       5         4             6   \n",
       "\n",
       "  period2_score final_score passing_grade  \n",
       "0             6           6             0  \n",
       "1             5           6             0  \n",
       "2             8          10             0  \n",
       "3            14          15             1  \n",
       "4            10          10             0  \n",
       "\n",
       "[5 rows x 35 columns]"
      ]
     },
     "execution_count": 63,
     "metadata": {},
     "output_type": "execute_result"
    }
   ],
   "source": [
    "dataset = pd.read_csv(open('data/student_performance.csv'))\n",
    "dataset.head()"
   ]
  },
  {
   "cell_type": "code",
   "execution_count": 64,
   "metadata": {},
   "outputs": [],
   "source": [
    "# not enough time to encode by scratch, so they will be dropped from dataset\n",
    "\n",
    "dataset = dataset.drop(columns=['Unnamed: 0', 'school', 'sex', 'address', 'family_size', 'parents_status', 'mother_job', 'father_job', 'reason', 'guardian',\n",
    "                                'school_support', 'family_support', 'paid_classes', 'activities', 'nursery', 'desire_higher_edu', 'internet', 'romantic'])"
   ]
  },
  {
   "cell_type": "markdown",
   "metadata": {},
   "source": [
    "## Passing Grade is a final score >= 14 (70%)"
   ]
  },
  {
   "cell_type": "code",
   "execution_count": 65,
   "metadata": {},
   "outputs": [
    {
     "name": "stdout",
     "output_type": "stream",
     "text": [
      "No. of testing rows:  208\n",
      "No. of training rows:  836\n"
     ]
    }
   ],
   "source": [
    "dataset = dataset.iloc[np.random.permutation(len(dataset))]\n",
    "test, train = splitData(dataset)\n",
    "print(\"No. of testing rows: \", len(test['passing_grade']))\n",
    "print(\"No. of training rows: \", len(train['passing_grade']))"
   ]
  },
  {
   "cell_type": "code",
   "execution_count": 66,
   "metadata": {},
   "outputs": [
    {
     "name": "stdout",
     "output_type": "stream",
     "text": [
      "Prior probability of 'not_passing:  0.7117224880382775\n",
      "Prior probability of 'passing:  0.28827751196172247\n"
     ]
    }
   ],
   "source": [
    "# caclculate initial probability \n",
    "\n",
    "positiveT, negativeT = splitByPassingGrade(train)\n",
    "\n",
    "priorP = len(positiveT['passing_grade'])/len(train['passing_grade'])   # priorP for the positive class\n",
    "priorN = len(negativeT['passing_grade'])/len(train['passing_grade'])   # priorN for the negative one\n",
    "\n",
    "print(\"Prior probability of 'not_passing: \", priorN)\n",
    "print(\"Prior probability of 'passing: \", priorP)"
   ]
  },
  {
   "cell_type": "code",
   "execution_count": 67,
   "metadata": {},
   "outputs": [],
   "source": [
    "# get the mean & variance\n",
    "\n",
    "positiveMV , negativeMV = mean(positiveT, negativeT)\n",
    "\n",
    "positiveMV = variance(positiveT,positiveMV)\n",
    "negativeMV = variance(negativeT, negativeMV)\n",
    "\n",
    "testF = test.iloc[:, 0:8]\n",
    "testC = test.iloc[:,-1]"
   ]
  },
  {
   "cell_type": "code",
   "execution_count": 68,
   "metadata": {},
   "outputs": [
    {
     "name": "stdout",
     "output_type": "stream",
     "text": [
      "Prediction result:\n",
      "\n",
      " [1, 1, 1, 0, 1, 0, 0, 1, 0, 1, 1, 1, 1, 1, 1, 0, 0, 1, 0, 1, 0, 0, 1, 0, 0, 0, 0, 1, 1, 1, 0, 1, 1, 1, 1, 1, 1, 0, 0, 1, 1, 0, 1, 0, 0, 0, 1, 0, 0, 0, 1, 1, 1, 0, 1, 1, 1, 0, 1, 1, 0, 1, 1, 0, 0, 1, 1, 1, 1, 1, 0, 1, 1, 1, 0, 0, 0, 1, 1, 1, 1, 0, 0, 0, 0, 1, 0, 1, 1, 0, 1, 1, 0, 0, 0, 0, 0, 0, 1, 1, 1, 1, 1, 1, 1, 1, 1, 1, 0, 1, 0, 0, 1, 1, 0, 0, 0, 1, 0, 1, 1, 1, 1, 1, 1, 1, 0, 1, 1, 0, 0, 0, 1, 0, 1, 1, 1, 0, 1, 1, 0, 0, 0, 0, 1, 1, 1, 0, 0, 0, 1, 1, 1, 1, 1, 0, 1, 1, 0, 1, 1, 1, 0, 1, 1, 1, 0, 1, 0, 1, 1, 0, 1, 0, 1, 0, 1, 0, 0, 1, 0, 0, 0, 1, 1, 1, 0, 1, 1, 1, 1, 0, 1, 1, 1, 0, 0, 0, 0, 1, 1, 0, 1, 0, 0, 1, 1, 1]\n"
     ]
    }
   ],
   "source": [
    "# find predicts of both classes\n",
    "\n",
    "pPredict = Calculate(positiveMV, testF, priorP)\n",
    "nPredict = Calculate(negativeMV, testF, priorN)\n",
    "\n",
    "# calculate prediction\n",
    "\n",
    "prediction = makePrediction(pPredict, nPredict)\n",
    "\n",
    "print(\"Prediction result:\\n\\n\", prediction)"
   ]
  },
  {
   "cell_type": "code",
   "execution_count": 69,
   "metadata": {},
   "outputs": [
    {
     "name": "stdout",
     "output_type": "stream",
     "text": [
      "accuracy:  56.25 %\n",
      "precision:  0.3442622950819672 \n",
      "recall:  0.7924528301886793\n"
     ]
    }
   ],
   "source": [
    "accuracy, precision, recall = getAccuracy(prediction, testC.values.tolist())\n",
    "print(\"accuracy: \",accuracy,\"%\\nprecision: \",precision,\"\\nrecall: \",recall)"
   ]
  },
  {
   "cell_type": "markdown",
   "metadata": {},
   "source": [
    "### 14.92 points below baseline. "
   ]
  }
 ],
 "metadata": {
  "kernelspec": {
   "display_name": "Python 3.7.4 64-bit",
   "language": "python",
   "name": "python37464bit297b18a1a3e542689b13a325bcf6fffe"
  },
  "language_info": {
   "codemirror_mode": {
    "name": "ipython",
    "version": 3
   },
   "file_extension": ".py",
   "mimetype": "text/x-python",
   "name": "python",
   "nbconvert_exporter": "python",
   "pygments_lexer": "ipython3",
   "version": "3.7.4"
  }
 },
 "nbformat": 4,
 "nbformat_minor": 4
}
